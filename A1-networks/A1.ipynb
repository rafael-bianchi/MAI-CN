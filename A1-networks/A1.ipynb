{
 "cells": [
  {
   "cell_type": "code",
   "execution_count": 16,
   "metadata": {},
   "outputs": [],
   "source": [
    "%matplotlib inline\n",
    "import matplotlib.pyplot as plt\n",
    "import networkx as nx\n",
    "import os\n",
    "import pandas as pd\n",
    "import math as math\n",
    "import numpy as np"
   ]
  },
  {
   "cell_type": "code",
   "execution_count": 2,
   "metadata": {},
   "outputs": [],
   "source": [
    "def read_networks(file_names):\n",
    "    networks =[]\n",
    "    for f in file_names:\n",
    "        pjk = nx.read_pajek(f)\n",
    "        \n",
    "        net=nx.Graph(pjk)\n",
    "        networks.append(net)\n",
    "    return networks"
   ]
  },
  {
   "cell_type": "code",
   "execution_count": 3,
   "metadata": {
    "scrolled": true
   },
   "outputs": [],
   "source": [
    "def read_network_properties(network):\n",
    "    degrees = network.degree()\n",
    "    \n",
    "    net_properties = { \n",
    "                       \"network\": network,\n",
    "                       \"number_of_nodes\": len(network),\n",
    "                       \"number_of_edges\": nx.number_of_edges(network),\n",
    "                       \"min_degree\": min(degrees, key=lambda d: d[1])[1],\n",
    "                       \"max_degree\": max(degrees, key=lambda d: d[1])[1],\n",
    "                       \"avg_degree\": sum(d[1] for d in degrees) / len(degrees),\n",
    "                       \"average_clustering_coefficient\": nx.average_clustering(network),\n",
    "                       \"assortativity\": nx.degree_assortativity_coefficient(network, weight=None),\n",
    "                       \"average_shortest_path_length\": nx.average_shortest_path_length(network),\n",
    "                       \"diameter\": nx.diameter(network)\n",
    "                      \n",
    "    }\n",
    "    \n",
    "    return net_properties\n"
   ]
  },
  {
   "cell_type": "code",
   "execution_count": 884,
   "metadata": {},
   "outputs": [],
   "source": [
    "def plot_ccdf(nt):\n",
    "    fig = plt.figure()\n",
    "    ax = fig.add_subplot(1, 1, 1)\n",
    "\n",
    "    degrees = [d for n, d in nt[1]['network'].degree()]\n",
    "    sorted_vals = np.sort(np.unique(degrees))\n",
    "    ccdf = np.zeros(len(sorted_vals))\n",
    "    n = float(len(degrees))\n",
    "    for i, val in enumerate(sorted_vals):\n",
    "        ccdf[i] = np.sum(degrees >= val)/n\n",
    "\n",
    "    ax.plot(sorted_vals, ccdf, \"-\")\n",
    "    \n",
    "    ax.set_xscale('log')\n",
    "    ax.set_xlabel('Degree k')\n",
    "    ax.set_yscale('log')\n",
    "    ax.set_ylabel('Fraction Pk of vertices having degree k')\n",
    "    ax.grid()\n",
    "    ax.set_title(\"log-log, CCDF: \" + nt[0], \n",
    "            transform=ax.transAxes)\n"
   ]
  },
  {
   "cell_type": "code",
   "execution_count": 862,
   "metadata": {},
   "outputs": [],
   "source": [
    "def plot_log_log_histogram(n, n_bins):\n",
    "    k_min = n[1]['min_degree']\n",
    "    k_max = n[1]['max_degree']+1\n",
    " \n",
    "    fig, ax = plt.subplots()\n",
    "    bins = np.logspace(np.log10(np.min(k_min)), \n",
    "                       np.log10(np.max(k_max+1)), \n",
    "                       num=n_bins)\n",
    "    ax.hist(np.asarray([d for n, d in n[1]['network'].degree() if n != 0]), normed=True, bins=bins)\n",
    "    ax.set_xscale('log')\n",
    "    ax.set_xlabel('Degree k')\n",
    "    ax.set_yscale('log',nonposy='clip')\n",
    "    ax.set_ylabel('Fraction Pk of vertices having degree k')\n",
    "    plt.title(f\"PDF for network {n[0]} - {n_bins} bins\")"
   ]
  },
  {
   "cell_type": "code",
   "execution_count": 856,
   "metadata": {},
   "outputs": [],
   "source": [
    "def plot_degree_histogram(n):\n",
    "    deg, cnt = np.unique(sorted([d for n, d in n[1]['network'].degree()]), return_counts=True)\n",
    "    \n",
    "    fig, ax = plt.subplots()\n",
    "    plt.bar(deg, cnt / np.sum(cnt), align='center')\n",
    "    \n",
    "    plt.title(f\"Degree Histogram for network {n[0]}\")\n",
    "    plt.ylabel(\"P(k)\")\n",
    "    plt.xlabel(\"k\")\n",
    "    ax.set_xticks([d + 0.4 for d in deg])\n",
    "    ax.set_xticklabels(deg)"
   ]
  },
  {
   "cell_type": "code",
   "execution_count": 4,
   "metadata": {},
   "outputs": [],
   "source": [
    "file_list = ['toy/circle9.net', 'toy/star.net', 'toy/graph3+1+3.net', 'toy/grid-p-6x6.net' \n",
    "            ,'model/homorand_N1000_K4_0.net', 'model/ER1000k8.net', 'model/SF_1000_g2.7.net' \n",
    "            ,'model/ws1000.net', 'real/zachary_unwh.net', 'real/airports_UW.net']\n",
    "\n",
    "#list_to_plot = ['model/ER1000k8.net', 'model/SF_1000_g2.7.net', 'model/ws1000.net', 'real/airports_UW.net']"
   ]
  },
  {
   "cell_type": "code",
   "execution_count": 5,
   "metadata": {},
   "outputs": [
    {
     "name": "stderr",
     "output_type": "stream",
     "text": [
      "C:\\Users\\rafae\\AppData\\Roaming\\Python\\Python36\\site-packages\\networkx\\algorithms\\assortativity\\correlation.py:288: RuntimeWarning: invalid value encountered in double_scalars\n",
      "  return (xy * (M - ab)).sum() / numpy.sqrt(vara * varb)\n"
     ]
    }
   ],
   "source": [
    "net_props = list(zip(file_list, [read_network_properties(n) for n in read_networks(file_list)]))"
   ]
  },
  {
   "cell_type": "code",
   "execution_count": 840,
   "metadata": {},
   "outputs": [
    {
     "data": {
      "text/html": [
       "<div>\n",
       "<style scoped>\n",
       "    .dataframe tbody tr th:only-of-type {\n",
       "        vertical-align: middle;\n",
       "    }\n",
       "\n",
       "    .dataframe tbody tr th {\n",
       "        vertical-align: top;\n",
       "    }\n",
       "\n",
       "    .dataframe thead th {\n",
       "        text-align: right;\n",
       "    }\n",
       "</style>\n",
       "<table border=\"1\" class=\"dataframe\">\n",
       "  <thead>\n",
       "    <tr style=\"text-align: right;\">\n",
       "      <th></th>\n",
       "      <th># Edges</th>\n",
       "      <th># Nodes</th>\n",
       "      <th>Assortativity</th>\n",
       "      <th>Average Path Lenght</th>\n",
       "      <th>Avg Degree</th>\n",
       "      <th>Clustering Coefficient</th>\n",
       "      <th>Diameter</th>\n",
       "      <th>Max Degree</th>\n",
       "      <th>Min Degree</th>\n",
       "      <th>Network</th>\n",
       "    </tr>\n",
       "  </thead>\n",
       "  <tbody>\n",
       "    <tr>\n",
       "      <th>0</th>\n",
       "      <td>9</td>\n",
       "      <td>9</td>\n",
       "      <td>+nan</td>\n",
       "      <td>2.5000</td>\n",
       "      <td>2.0000</td>\n",
       "      <td>0.0000</td>\n",
       "      <td>4.0000</td>\n",
       "      <td>2</td>\n",
       "      <td>2</td>\n",
       "      <td>toy/circle9.net</td>\n",
       "    </tr>\n",
       "    <tr>\n",
       "      <th>1</th>\n",
       "      <td>8</td>\n",
       "      <td>9</td>\n",
       "      <td>-1.0000</td>\n",
       "      <td>1.7778</td>\n",
       "      <td>1.7778</td>\n",
       "      <td>0.0000</td>\n",
       "      <td>2.0000</td>\n",
       "      <td>8</td>\n",
       "      <td>1</td>\n",
       "      <td>toy/star.net</td>\n",
       "    </tr>\n",
       "    <tr>\n",
       "      <th>2</th>\n",
       "      <td>8</td>\n",
       "      <td>7</td>\n",
       "      <td>-0.6000</td>\n",
       "      <td>2.1905</td>\n",
       "      <td>2.2857</td>\n",
       "      <td>0.6667</td>\n",
       "      <td>4.0000</td>\n",
       "      <td>3</td>\n",
       "      <td>2</td>\n",
       "      <td>toy/graph3+1+3.net</td>\n",
       "    </tr>\n",
       "    <tr>\n",
       "      <th>3</th>\n",
       "      <td>72</td>\n",
       "      <td>36</td>\n",
       "      <td>+nan</td>\n",
       "      <td>3.0857</td>\n",
       "      <td>4.0000</td>\n",
       "      <td>0.0000</td>\n",
       "      <td>6.0000</td>\n",
       "      <td>4</td>\n",
       "      <td>4</td>\n",
       "      <td>toy/grid-p-6x6.net</td>\n",
       "    </tr>\n",
       "    <tr>\n",
       "      <th>4</th>\n",
       "      <td>2000</td>\n",
       "      <td>1000</td>\n",
       "      <td>+nan</td>\n",
       "      <td>5.6400</td>\n",
       "      <td>4.0000</td>\n",
       "      <td>0.0020</td>\n",
       "      <td>9.0000</td>\n",
       "      <td>4</td>\n",
       "      <td>4</td>\n",
       "      <td>model/homorand_N1000_K4_0.net</td>\n",
       "    </tr>\n",
       "    <tr>\n",
       "      <th>5</th>\n",
       "      <td>3956</td>\n",
       "      <td>1000</td>\n",
       "      <td>-0.0168</td>\n",
       "      <td>3.5698</td>\n",
       "      <td>7.9120</td>\n",
       "      <td>0.0080</td>\n",
       "      <td>6.0000</td>\n",
       "      <td>17</td>\n",
       "      <td>1</td>\n",
       "      <td>model/ER1000k8.net</td>\n",
       "    </tr>\n",
       "    <tr>\n",
       "      <th>6</th>\n",
       "      <td>1668</td>\n",
       "      <td>1000</td>\n",
       "      <td>-0.0020</td>\n",
       "      <td>5.4688</td>\n",
       "      <td>3.3360</td>\n",
       "      <td>0.0067</td>\n",
       "      <td>12.0000</td>\n",
       "      <td>24</td>\n",
       "      <td>2</td>\n",
       "      <td>model/SF_1000_g2.7.net</td>\n",
       "    </tr>\n",
       "    <tr>\n",
       "      <th>7</th>\n",
       "      <td>3000</td>\n",
       "      <td>1000</td>\n",
       "      <td>-0.0999</td>\n",
       "      <td>4.0913</td>\n",
       "      <td>6.0000</td>\n",
       "      <td>0.0044</td>\n",
       "      <td>6.0000</td>\n",
       "      <td>13</td>\n",
       "      <td>3</td>\n",
       "      <td>model/ws1000.net</td>\n",
       "    </tr>\n",
       "    <tr>\n",
       "      <th>8</th>\n",
       "      <td>78</td>\n",
       "      <td>34</td>\n",
       "      <td>-0.4756</td>\n",
       "      <td>2.4082</td>\n",
       "      <td>4.5882</td>\n",
       "      <td>0.5706</td>\n",
       "      <td>5.0000</td>\n",
       "      <td>17</td>\n",
       "      <td>1</td>\n",
       "      <td>real/zachary_unwh.net</td>\n",
       "    </tr>\n",
       "    <tr>\n",
       "      <th>9</th>\n",
       "      <td>14142</td>\n",
       "      <td>3618</td>\n",
       "      <td>+0.0462</td>\n",
       "      <td>4.4396</td>\n",
       "      <td>7.8176</td>\n",
       "      <td>0.4957</td>\n",
       "      <td>17.0000</td>\n",
       "      <td>250</td>\n",
       "      <td>1</td>\n",
       "      <td>real/airports_UW.net</td>\n",
       "    </tr>\n",
       "  </tbody>\n",
       "</table>\n",
       "</div>"
      ],
      "text/plain": [
       "  # Edges # Nodes Assortativity Average Path Lenght Avg Degree  \\\n",
       "0       9       9          +nan              2.5000     2.0000   \n",
       "1       8       9       -1.0000              1.7778     1.7778   \n",
       "2       8       7       -0.6000              2.1905     2.2857   \n",
       "3      72      36          +nan              3.0857     4.0000   \n",
       "4    2000    1000          +nan              5.6400     4.0000   \n",
       "5    3956    1000       -0.0168              3.5698     7.9120   \n",
       "6    1668    1000       -0.0020              5.4688     3.3360   \n",
       "7    3000    1000       -0.0999              4.0913     6.0000   \n",
       "8      78      34       -0.4756              2.4082     4.5882   \n",
       "9   14142    3618       +0.0462              4.4396     7.8176   \n",
       "\n",
       "  Clustering Coefficient Diameter Max Degree Min Degree  \\\n",
       "0                 0.0000   4.0000          2          2   \n",
       "1                 0.0000   2.0000          8          1   \n",
       "2                 0.6667   4.0000          3          2   \n",
       "3                 0.0000   6.0000          4          4   \n",
       "4                 0.0020   9.0000          4          4   \n",
       "5                 0.0080   6.0000         17          1   \n",
       "6                 0.0067  12.0000         24          2   \n",
       "7                 0.0044   6.0000         13          3   \n",
       "8                 0.5706   5.0000         17          1   \n",
       "9                 0.4957  17.0000        250          1   \n",
       "\n",
       "                         Network  \n",
       "0                toy/circle9.net  \n",
       "1                   toy/star.net  \n",
       "2             toy/graph3+1+3.net  \n",
       "3             toy/grid-p-6x6.net  \n",
       "4  model/homorand_N1000_K4_0.net  \n",
       "5             model/ER1000k8.net  \n",
       "6         model/SF_1000_g2.7.net  \n",
       "7               model/ws1000.net  \n",
       "8          real/zachary_unwh.net  \n",
       "9           real/airports_UW.net  "
      ]
     },
     "execution_count": 840,
     "metadata": {},
     "output_type": "execute_result"
    }
   ],
   "source": [
    "#Using pandas just to get a pretty output table\n",
    "\n",
    "data = pd.DataFrame()\n",
    "\n",
    "for net in net_props:\n",
    "    data = data.append({'Network': net[0], '# Nodes': \"{:d}\".format(net[1]['number_of_nodes']), '# Edges': \"{:d}\".format(net[1]['number_of_edges'])\n",
    "                       , 'Min Degree': \"{:d}\".format(net[1]['min_degree']), 'Max Degree': \"{:d}\".format(net[1]['max_degree']), 'Avg Degree': \"{:.4f}\".format(net[1]['avg_degree'])\n",
    "                       , 'Clustering Coefficient': \"{:.4f}\".format(net[1]['average_clustering_coefficient']), 'Assortativity': \"{:+.4f}\".format(net[1]['assortativity'])\n",
    "                       , 'Average Path Lenght': \"{:.4f}\".format(net[1]['average_shortest_path_length']), 'Diameter': \"{:.4f}\".format(net[1]['diameter'])}, ignore_index=True)\n",
    "\n",
    "data\n"
   ]
  },
  {
   "cell_type": "code",
   "execution_count": 885,
   "metadata": {},
   "outputs": [
    {
     "data": {
      "image/png": "[encoded data removed]",
      "text/plain": [
       "<Figure size 432x288 with 1 Axes>"
      ]
     },
     "metadata": {
      "needs_background": "light"
     },
     "output_type": "display_data"
    },
    {
     "data": {
      "image/png": "[encoded data removed]",
      "text/plain": [
       "<Figure size 432x288 with 1 Axes>"
      ]
     },
     "metadata": {
      "needs_background": "light"
     },
     "output_type": "display_data"
    },
    {
     "data": {
      "image/png": "[encoded data removed]",
      "text/plain": [
       "<Figure size 432x288 with 1 Axes>"
      ]
     },
     "metadata": {
      "needs_background": "light"
     },
     "output_type": "display_data"
    },
    {
     "data": {
      "image/png": "[encoded data removed]",
      "text/plain": [
       "<Figure size 432x288 with 1 Axes>"
      ]
     },
     "metadata": {
      "needs_background": "light"
     },
     "output_type": "display_data"
    }
   ],
   "source": [
    "#list_to_plot = [5'model/ER1000k8.net', 6'model/SF_1000_g2.7.net', 7'model/ws1000.net', 9'real/airports_UW.net']\n",
    "\n",
    "\n",
    "plot_ccdf(net_props[5])\n",
    "plot_ccdf(net_props[6])\n",
    "plot_ccdf(net_props[7])\n",
    "plot_ccdf(net_props[9])"
   ]
  }
 ],
 "metadata": {
  "kernelspec": {
   "display_name": "Python 3",
   "language": "python",
   "name": "python3"
  },
  "language_info": {
   "codemirror_mode": {
    "name": "ipython",
    "version": 3
   },
   "file_extension": ".py",
   "mimetype": "text/x-python",
   "name": "python",
   "nbconvert_exporter": "python",
   "pygments_lexer": "ipython3",
   "version": "3.6.8"
  }
 },
 "nbformat": 4,
 "nbformat_minor": 2
}
