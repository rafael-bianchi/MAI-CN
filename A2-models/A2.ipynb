{
 "cells": [
  {
   "cell_type": "code",
   "execution_count": 47,
   "metadata": {},
   "outputs": [],
   "source": [
    "import itertools\n",
    "import networkx as nx\n",
    "import math\n",
    "import matplotlib.pyplot as plt\n",
    "import numpy as np\n",
    "import random\n",
    "from sklearn.linear_model import LinearRegression"
   ]
  },
  {
   "cell_type": "markdown",
   "metadata": {},
   "source": [
    " #### Erdös-Rényi (ER) networks"
   ]
  },
  {
   "cell_type": "code",
   "execution_count": 19,
   "metadata": {},
   "outputs": [],
   "source": [
    "def erdos_renyi_gen(n,p):\n",
    "    net = nx.Graph()\n",
    "    for node in range(0,n):\n",
    "        net.add_node(node)\n",
    "    \n",
    "    for ini in range(0,n):\n",
    "        for end in range(ini+1, n):\n",
    "            if (p > 0 and random.random() <= p):\n",
    "                net.add_edge(ini, end)\n",
    "    return net\n",
    "\n",
    "def erdos_renyi_gen_plot(n,p):\n",
    "    net = erdos_renyi_gen(n, p)\n",
    "\n",
    "    # nx.draw(net)\n",
    "    # plt.show()\n",
    "\n",
    "    # Actual and theoretical average degree\n",
    "    k = sum([d[1] for d in net.degree()])/n\n",
    "    k_theo = p*(n-1)\n",
    "    \n",
    "    # Actual and theoretical degree distribution\n",
    "    h = nx.degree_histogram(net)\n",
    "    h_theo = []\n",
    "\n",
    "    for deg in range(len(h)):\n",
    "        #Poisson distribution\n",
    "        h_theo.append(math.exp(-k_theo)*k_theo**deg/math.factorial(deg))\n",
    "\n",
    "    plt.plot(np.asarray(h)/float(sum(h)), 's-', label='Actual data')\n",
    "    plt.axvline(x=k, ls='dashed', label=f'Experimental <k>={k}')\n",
    "    plt.plot(h_theo, 'o-', color='r', label='Poisson approximation')\n",
    "    plt.axvline(x=k_theo, color='r', ls='dashed', label=f'Theoretical <k>={k_theo}')\n",
    "    plt.legend(bbox_to_anchor=(1.05, 1), loc=2, borderaxespad=0.)\n",
    "    \n",
    "    plt.xlabel('Degree')\n",
    "    plt.ylabel('Frequency')\n",
    "\n",
    "    plt.title(f'Erdös-Rényi N={n} and p={p}')\n",
    "    plt.grid(True)\n",
    "\n",
    "    plt.show() \n"
   ]
  },
  {
   "cell_type": "markdown",
   "metadata": {},
   "source": [
    " #### Watts-Strogatz model (WS)"
   ]
  },
  {
   "cell_type": "code",
   "execution_count": 20,
   "metadata": {},
   "outputs": [],
   "source": [
    "def watts_strogatz_gen(n, k, p):\n",
    "    if (k >= n): \n",
    "        raise Exception('Invalid value for k. k must be less than n')\n",
    "\n",
    "    net = nx.Graph()\n",
    "    k_2 = math.floor(k / 2)\n",
    "    edge_list = []\n",
    "\n",
    "    for node in range(0,n):\n",
    "        for node_pos_shift in range(1, k_2 + 1):\n",
    "            edge_list.append([node, (node + node_pos_shift) % n])\n",
    "\n",
    "    net.add_edges_from(edge_list)\n",
    "\n",
    "    for edge in edge_list:\n",
    "        if (p > 0 and random.random() < p):\n",
    "            new_to = random.randint(0, n-1)\n",
    "\n",
    "            while new_to == edge[1] or net.has_edge(edge[0], new_to):\n",
    "                new_to = random.randint(0, n-1)\n",
    "\n",
    "            if net.degree(edge[0]) >= n - 1:\n",
    "                break\n",
    "            else:\n",
    "                net.remove_edge(edge[0], edge[1])\n",
    "                net.add_edge(edge[0], new_to)\n",
    "    \n",
    "    return net\n",
    "\n",
    "def watts_strogatz_plot(n, k, p):\n",
    "    net = watts_strogatz_gen(n, k, p)\n",
    "\n",
    "    h = nx.degree_histogram(net)\n",
    "    h_theo = []\n",
    "\n",
    "    for deg in range(len(h)):\n",
    "        #Poisson distribution\n",
    "        h_theo.append(math.exp(-k)*k**deg/math.factorial(deg))\n",
    "\n",
    "    plt.plot(np.asarray(h)/float(sum(h)), 's-', label='Actual data')\n",
    "    plt.plot(h_theo, 'o-', color='r', label='Poisson approximation')\n",
    "    \n",
    "    plt.legend(bbox_to_anchor=(1.05, 1), loc=2, borderaxespad=0.)\n",
    "    \n",
    "    plt.xlabel('Degree')\n",
    "    plt.ylabel('Frequency')\n",
    "\n",
    "    plt.title(f'Watts-Strogatz N={n}, k={k} and p={p}')\n",
    "    plt.grid(True)\n",
    "    plt.show()\n",
    "\n"
   ]
  },
  {
   "cell_type": "markdown",
   "metadata": {},
   "source": [
    " ##### Barabási-Albert model (BA)"
   ]
  },
  {
   "cell_type": "code",
   "execution_count": 55,
   "metadata": {},
   "outputs": [],
   "source": [
    "def barabasi_albert_gen(n, m0, m):\n",
    "    if (m0 > n):\n",
    "        raise Exception('m0 must be equal or less than n.')\n",
    "\n",
    "    if (m > m0):\n",
    "        raise Exception('m must be equal or less than m0.')\n",
    "\n",
    "    net = nx.Graph()\n",
    "\n",
    "    for node in range(0,m0):\n",
    "        #print(f'Adding node {node}')\n",
    "        net.add_node(node)\n",
    "\n",
    "    #Generating a list (circular) with m0 nodes\n",
    "    edge_list = []\n",
    "    for node in range(0,m0):\n",
    "        for node_pos_shift in range(1, 3):\n",
    "            edge_list.append([node, (node + node_pos_shift) % m0])\n",
    "\n",
    "    net.add_edges_from(edge_list)\n",
    "\n",
    "    while m0 < n:    \n",
    "        distr_degree = []\n",
    "        for degree in net.degree():\n",
    "            distr_degree += [degree[0]] * degree[1]\n",
    "\n",
    "        for _ in range(0, m):\n",
    "            node = random.choice(distr_degree)\n",
    "            distr_degree = [item for item in distr_degree if item != node]\n",
    "\n",
    "            net.add_node(m0)\n",
    "            net.add_edge(m0, node)     \n",
    "        m0 += 1\n",
    "\n",
    "    return net\n",
    "\n",
    "def barabasi_albert_plot(n, m0, m):\n",
    "    net = barabasi_albert_gen(n,m0,m)\n",
    "\n",
    "    degree_histogram = nx.degree_histogram(net)\n",
    "    \n",
    "    h_ = [i for i in degree_histogram if i>0]\n",
    "    degreedistribution = np.asarray([math.log(float(i)/sum(h_)) for i in h_])\n",
    "    d_ = np.asarray([math.log(i) for i in range(len(degree_histogram)) if degree_histogram[i]>0]).reshape((len(h_),1))\n",
    "    lr = LinearRegression()\n",
    "    lr.fit(d_, degreedistribution)\n",
    "    gamma = -lr.coef_\n",
    "\n",
    "    plt.scatter([math.exp(i) for i in d_], [math.exp(j) for j in degreedistribution],  color='blue', label='Actual data')\n",
    "    plt.plot([math.exp(i) for i in d_], [math.exp(j) for j in lr.predict(d_)], color='black', linewidth=2, label='Regression')\n",
    "    plt.xscale('log')\n",
    "    plt.yscale('log')\n",
    "\n",
    "    plt.legend(bbox_to_anchor=(1.05, 1), loc=2, borderaxespad=0.)\n",
    "    plt.xlabel('Degree')\n",
    "    plt.ylabel('Frequency')\n",
    "    plt.title(f'Barabási-Albert N={n}, m0={m0} and {m}. Estimated γ={gamma}')\n",
    "    plt.grid(True)\n",
    "    plt.show()"
   ]
  },
  {
   "cell_type": "code",
   "execution_count": 22,
   "metadata": {},
   "outputs": [],
   "source": [
    "for n in [50, 100]:\n",
    "    for p in [.2, .5, .7]:\n",
    "        net = erdos_renyi_gen(n, p)\n",
    "        nx.write_pajek(net, f'./output/ER_n_{n}_p_{100*p}.net')\n"
   ]
  },
  {
   "cell_type": "code",
   "execution_count": 23,
   "metadata": {},
   "outputs": [],
   "source": [
    "for n in [50, 100]:\n",
    "    for p in [0, .1, .2, .5, 0.9, 1.0]:\n",
    "        watts_strogatz_gen(n, 4, p)\n",
    "        nx.write_pajek(net, f'./output/WS_n_{n}_p_{100*p}.net')\n"
   ]
  },
  {
   "cell_type": "code",
   "execution_count": 24,
   "metadata": {},
   "outputs": [],
   "source": [
    "for n in [100]:\n",
    "    for m in [1, 2, 5]:\n",
    "        barabasi_albert_gen(n, n//2, m)\n",
    "        nx.write_pajek(net, f'./output/BA_n_{n}_m_{m}_m0_{n//2}.net')\n",
    "\n",
    "\n"
   ]
  },
  {
   "cell_type": "code",
   "execution_count": 44,
   "metadata": {},
   "outputs": [
    {
     "ename": "AttributeError",
     "evalue": "module 'sklearn' has no attribute 'linear_model'",
     "output_type": "error",
     "traceback": [
      "\u001b[1;31m---------------------------------------------------------------------------\u001b[0m",
      "\u001b[1;31mAttributeError\u001b[0m                            Traceback (most recent call last)",
      "\u001b[1;32m<ipython-input-44-bbfb69ca8ec6>\u001b[0m in \u001b[0;36m<module>\u001b[1;34m\u001b[0m\n\u001b[1;32m----> 1\u001b[1;33m \u001b[0mbarabasi_albert_plot\u001b[0m\u001b[1;33m(\u001b[0m\u001b[1;36m1000\u001b[0m\u001b[1;33m,\u001b[0m \u001b[1;36m50\u001b[0m\u001b[1;33m,\u001b[0m \u001b[1;36m1\u001b[0m\u001b[1;33m)\u001b[0m\u001b[1;33m\u001b[0m\u001b[1;33m\u001b[0m\u001b[0m\n\u001b[0m\u001b[0;32m      2\u001b[0m \u001b[1;31m#barabasi_albert_plot(1000, 50, 5)\u001b[0m\u001b[1;33m\u001b[0m\u001b[1;33m\u001b[0m\u001b[1;33m\u001b[0m\u001b[0m\n\u001b[0;32m      3\u001b[0m \u001b[1;31m#barabasi_albert_plot(1000, 50, 10)\u001b[0m\u001b[1;33m\u001b[0m\u001b[1;33m\u001b[0m\u001b[1;33m\u001b[0m\u001b[0m\n\u001b[0;32m      4\u001b[0m \u001b[1;31m#barabasi_albert_plot(10000, 100, 1)\u001b[0m\u001b[1;33m\u001b[0m\u001b[1;33m\u001b[0m\u001b[1;33m\u001b[0m\u001b[0m\n\u001b[0;32m      5\u001b[0m \u001b[1;31m#barabasi_albert_plot(10000, 100, 5)\u001b[0m\u001b[1;33m\u001b[0m\u001b[1;33m\u001b[0m\u001b[1;33m\u001b[0m\u001b[0m\n",
      "\u001b[1;32m<ipython-input-43-a1dacf19661d>\u001b[0m in \u001b[0;36mbarabasi_albert_plot\u001b[1;34m(n, m0, m)\u001b[0m\n\u001b[0;32m     43\u001b[0m     \u001b[0mdegreedistribution\u001b[0m \u001b[1;33m=\u001b[0m \u001b[0mnp\u001b[0m\u001b[1;33m.\u001b[0m\u001b[0masarray\u001b[0m\u001b[1;33m(\u001b[0m\u001b[1;33m[\u001b[0m\u001b[0mmath\u001b[0m\u001b[1;33m.\u001b[0m\u001b[0mlog\u001b[0m\u001b[1;33m(\u001b[0m\u001b[0mfloat\u001b[0m\u001b[1;33m(\u001b[0m\u001b[0mi\u001b[0m\u001b[1;33m)\u001b[0m\u001b[1;33m/\u001b[0m\u001b[0msum\u001b[0m\u001b[1;33m(\u001b[0m\u001b[0mh_\u001b[0m\u001b[1;33m)\u001b[0m\u001b[1;33m)\u001b[0m \u001b[1;32mfor\u001b[0m \u001b[0mi\u001b[0m \u001b[1;32min\u001b[0m \u001b[0mh_\u001b[0m\u001b[1;33m]\u001b[0m\u001b[1;33m)\u001b[0m\u001b[1;33m\u001b[0m\u001b[1;33m\u001b[0m\u001b[0m\n\u001b[0;32m     44\u001b[0m     \u001b[0md_\u001b[0m \u001b[1;33m=\u001b[0m \u001b[0mnp\u001b[0m\u001b[1;33m.\u001b[0m\u001b[0masarray\u001b[0m\u001b[1;33m(\u001b[0m\u001b[1;33m[\u001b[0m\u001b[0mmath\u001b[0m\u001b[1;33m.\u001b[0m\u001b[0mlog\u001b[0m\u001b[1;33m(\u001b[0m\u001b[0mi\u001b[0m\u001b[1;33m)\u001b[0m \u001b[1;32mfor\u001b[0m \u001b[0mi\u001b[0m \u001b[1;32min\u001b[0m \u001b[0mrange\u001b[0m\u001b[1;33m(\u001b[0m\u001b[0mlen\u001b[0m\u001b[1;33m(\u001b[0m\u001b[0mdegree_histogram\u001b[0m\u001b[1;33m)\u001b[0m\u001b[1;33m)\u001b[0m \u001b[1;32mif\u001b[0m \u001b[0mdegree_histogram\u001b[0m\u001b[1;33m[\u001b[0m\u001b[0mi\u001b[0m\u001b[1;33m]\u001b[0m\u001b[1;33m>\u001b[0m\u001b[1;36m0\u001b[0m\u001b[1;33m]\u001b[0m\u001b[1;33m)\u001b[0m\u001b[1;33m.\u001b[0m\u001b[0mreshape\u001b[0m\u001b[1;33m(\u001b[0m\u001b[1;33m(\u001b[0m\u001b[0mlen\u001b[0m\u001b[1;33m(\u001b[0m\u001b[0mh_\u001b[0m\u001b[1;33m)\u001b[0m\u001b[1;33m,\u001b[0m\u001b[1;36m1\u001b[0m\u001b[1;33m)\u001b[0m\u001b[1;33m)\u001b[0m\u001b[1;33m\u001b[0m\u001b[1;33m\u001b[0m\u001b[0m\n\u001b[1;32m---> 45\u001b[1;33m     \u001b[0mlr\u001b[0m \u001b[1;33m=\u001b[0m \u001b[0msklearn\u001b[0m\u001b[1;33m.\u001b[0m\u001b[0mlinear_model\u001b[0m\u001b[1;33m.\u001b[0m\u001b[0mLinearRegression\u001b[0m\u001b[1;33m(\u001b[0m\u001b[1;33m)\u001b[0m\u001b[1;33m\u001b[0m\u001b[1;33m\u001b[0m\u001b[0m\n\u001b[0m\u001b[0;32m     46\u001b[0m     \u001b[0mlr\u001b[0m\u001b[1;33m.\u001b[0m\u001b[0mfit\u001b[0m\u001b[1;33m(\u001b[0m\u001b[0md_\u001b[0m\u001b[1;33m,\u001b[0m \u001b[0mdegreedistribution\u001b[0m\u001b[1;33m)\u001b[0m\u001b[1;33m\u001b[0m\u001b[1;33m\u001b[0m\u001b[0m\n\u001b[0;32m     47\u001b[0m     \u001b[0mgamma\u001b[0m \u001b[1;33m=\u001b[0m \u001b[1;33m-\u001b[0m\u001b[0mlr\u001b[0m\u001b[1;33m.\u001b[0m\u001b[0mcoef_\u001b[0m\u001b[1;33m\u001b[0m\u001b[1;33m\u001b[0m\u001b[0m\n",
      "\u001b[1;31mAttributeError\u001b[0m: module 'sklearn' has no attribute 'linear_model'"
     ]
    }
   ],
   "source": [
    "barabasi_albert_plot(1000, 50, 1)\n",
    "#barabasi_albert_plot(1000, 50, 5)\n",
    "#barabasi_albert_plot(1000, 50, 10)\n",
    "#barabasi_albert_plot(10000, 100, 1)\n",
    "#barabasi_albert_plot(10000, 100, 5)\n",
    "#barabasi_albert_plot(10000, 100, 10)"
   ]
  },
  {
   "cell_type": "code",
   "execution_count": 60,
   "metadata": {},
   "outputs": [
    {
     "data": {
      "image/png": "[encoded data removed]",
      "text/plain": [
       "<Figure size 432x288 with 1 Axes>"
      ]
     },
     "metadata": {
      "needs_background": "light"
     },
     "output_type": "display_data"
    }
   ],
   "source": [
    "barabasi_albert_plot(10000, 100, 10)"
   ]
  },
  {
   "cell_type": "code",
   "execution_count": 244,
   "metadata": {},
   "outputs": [],
   "source": []
  }
 ],
 "metadata": {
  "file_extension": ".py",
  "kernelspec": {
   "display_name": "Python 3",
   "language": "python",
   "name": "python3"
  },
  "language_info": {
   "codemirror_mode": {
    "name": "ipython",
    "version": 3
   },
   "file_extension": ".py",
   "mimetype": "text/x-python",
   "name": "python",
   "nbconvert_exporter": "python",
   "pygments_lexer": "ipython3",
   "version": "3.6.8"
  },
  "mimetype": "text/x-python",
  "name": "python",
  "npconvert_exporter": "python",
  "pygments_lexer": "ipython3",
  "version": 3
 },
 "nbformat": 4,
 "nbformat_minor": 2
}
